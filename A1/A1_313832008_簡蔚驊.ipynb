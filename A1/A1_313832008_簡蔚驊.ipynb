{
 "cells": [
  {
   "cell_type": "markdown",
   "metadata": {},
   "source": [
    "### Define Function"
   ]
  },
  {
   "cell_type": "code",
   "execution_count": 81,
   "metadata": {},
   "outputs": [],
   "source": [
    "import json\n",
    "\n",
    "from torch.utils.data import Dataset, DataLoader"
   ]
  },
  {
   "cell_type": "code",
   "execution_count": 82,
   "metadata": {},
   "outputs": [],
   "source": [
    "def output_answer(requireIndex, CSI_Dataset, *args):\n",
    "    dataset = CSI_Dataset(*args)\n",
    "    print(f'dataset length: {len(dataset.data)}')\n",
    "    dataloader = DataLoader(dataset, batch_size=len(dataset), shuffle=False)\n",
    "\n",
    "    output = next(iter(dataloader))\n",
    "    data_dict = {i: value for i, value in enumerate(output)}\n",
    "\n",
    "    with open(f'./A1_313832008_簡蔚驊_{requireIndex}.json', 'w') as json_file:\n",
    "        json.dump(data_dict, json_file, indent=4)"
   ]
  },
  {
   "cell_type": "code",
   "execution_count": 83,
   "metadata": {},
   "outputs": [],
   "source": [
    "def load_CSI_data():\n",
    "    with open('./CSI_data.json', 'r') as f:\n",
    "        data = json.load(f)\n",
    "    return data"
   ]
  },
  {
   "cell_type": "markdown",
   "metadata": {},
   "source": [
    "### Requirement 1. “CLASS_NAME” contain “Env3”."
   ]
  },
  {
   "cell_type": "code",
   "execution_count": 84,
   "metadata": {},
   "outputs": [
    {
     "name": "stdout",
     "output_type": "stream",
     "text": [
      "dataset length: 158110\n"
     ]
    }
   ],
   "source": [
    "class CSI_Dataset_1(Dataset):\n",
    "    def __init__(self):\n",
    "        self.json_data = load_CSI_data()\n",
    "\n",
    "        self.data = [data for split in self.json_data for data in self.json_data[split] if data.split('/')[0] == 'Env3']\n",
    "        \n",
    "            \n",
    "    def __len__(self):\n",
    "        return len(self.data)\n",
    "            \n",
    "    def __getitem__(self, idx):\n",
    "        return self.data[idx]\n",
    "    \n",
    "\n",
    "output_answer(1, CSI_Dataset_1)"
   ]
  },
  {
   "cell_type": "markdown",
   "metadata": {},
   "source": [
    "### Requirement 2. “THE_GENDER_AND_COUNT” contain 2 females with no limit on number of males."
   ]
  },
  {
   "cell_type": "code",
   "execution_count": 85,
   "metadata": {},
   "outputs": [
    {
     "name": "stdout",
     "output_type": "stream",
     "text": [
      "dataset length: 128820\n"
     ]
    }
   ],
   "source": [
    "class CSI_Dataset_2(Dataset):\n",
    "    def __init__(self):\n",
    "        self.json_data = load_CSI_data()\n",
    "\n",
    "        self.data = [data for split in self.json_data for data in self.json_data[split] if data.split('/')[2].count('F') == 2]\n",
    "            \n",
    "    def __len__(self):\n",
    "        return len(self.data)\n",
    "            \n",
    "    def __getitem__(self, idx):\n",
    "        return self.data[idx]\n",
    "    \n",
    "\n",
    "output_answer(2, CSI_Dataset_2)"
   ]
  },
  {
   "cell_type": "markdown",
   "metadata": {},
   "source": [
    "### Requirement 3. “THE_GENDER_AND_COUNT” contain 1 female without any male."
   ]
  },
  {
   "cell_type": "code",
   "execution_count": 86,
   "metadata": {},
   "outputs": [
    {
     "name": "stdout",
     "output_type": "stream",
     "text": [
      "dataset length: 238108\n"
     ]
    }
   ],
   "source": [
    "class CSI_Dataset_3(Dataset):\n",
    "    def __init__(self):\n",
    "        self.json_data = load_CSI_data()\n",
    "\n",
    "        self.data = [data for split in self.json_data for data in self.json_data[split] if data.split('/')[2].count('F') == 1 and data.split('/')[2].count('M') == 0]\n",
    "            \n",
    "    def __len__(self):\n",
    "        return len(self.data)\n",
    "            \n",
    "    def __getitem__(self, idx):\n",
    "        return self.data[idx]\n",
    "    \n",
    "output_answer(3, CSI_Dataset_3)"
   ]
  },
  {
   "cell_type": "markdown",
   "metadata": {},
   "source": [
    "### Requirement 4. “TIME” contain from 5/6 18:13:07 to 5/7 23:24:34 (same as 240506_181307 to 240507_232434)"
   ]
  },
  {
   "cell_type": "code",
   "execution_count": 87,
   "metadata": {},
   "outputs": [
    {
     "name": "stdout",
     "output_type": "stream",
     "text": [
      "dataset length: 391067\n"
     ]
    }
   ],
   "source": [
    "class CSI_Dataset_4(Dataset):\n",
    "    def __init__(self):\n",
    "        self.json_data = load_CSI_data()\n",
    "\n",
    "        self.data = [data for split in self.json_data for data in self.json_data[split] if '240506_181307' <= data.split('/')[-2] <= '240507_232434']\n",
    "            \n",
    "    def __len__(self):\n",
    "        return len(self.data)\n",
    "            \n",
    "    def __getitem__(self, idx):\n",
    "        return self.data[idx]\n",
    "    \n",
    "output_answer(4, CSI_Dataset_4)"
   ]
  },
  {
   "cell_type": "markdown",
   "metadata": {},
   "source": [
    "### Requirement 5. “CLASS_NAME” contain “Env3”, “THE_GENDER_AND_COUNT” contain just 1 male, “POSITION” contain “5_posi” and “TIME” from 5/8 09:00 to 5/8 11:00.\n"
   ]
  },
  {
   "cell_type": "code",
   "execution_count": 90,
   "metadata": {},
   "outputs": [
    {
     "name": "stdout",
     "output_type": "stream",
     "text": [
      "dataset length: 18481\n"
     ]
    }
   ],
   "source": [
    "class CSI_Dataset_5(Dataset):\n",
    "    def __init__(self):\n",
    "        self.json_data = load_CSI_data()\n",
    "\n",
    "        self.data = [data for split in self.json_data for data in self.json_data[split] if \n",
    "                        data.split('/')[0] == 'Env3'  \n",
    "                        and data.split('/')[2].count('M') == 1 \n",
    "                        and data.split('/')[2].count('F') == 0\n",
    "                        and data.split('/')[3] == '5_posi'\n",
    "                        and '240508_090000' <= data.split('/')[-2] <= '240508_110000'\n",
    "                    ]\n",
    "        \n",
    "            \n",
    "    def __len__(self):\n",
    "        return len(self.data)\n",
    "            \n",
    "    def __getitem__(self, idx):\n",
    "        return self.data[idx]\n",
    "    \n",
    "output_answer(5, CSI_Dataset_5)"
   ]
  }
 ],
 "metadata": {
  "kernelspec": {
   "display_name": "venv",
   "language": "python",
   "name": "python3"
  },
  "language_info": {
   "codemirror_mode": {
    "name": "ipython",
    "version": 3
   },
   "file_extension": ".py",
   "mimetype": "text/x-python",
   "name": "python",
   "nbconvert_exporter": "python",
   "pygments_lexer": "ipython3",
   "version": "3.12.5"
  }
 },
 "nbformat": 4,
 "nbformat_minor": 2
}
